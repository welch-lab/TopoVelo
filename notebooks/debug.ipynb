{
 "cells": [
  {
   "cell_type": "code",
   "execution_count": 1,
   "id": "9913cf22",
   "metadata": {},
   "outputs": [],
   "source": [
    "import anndata\n",
    "import numpy as np\n",
    "import scipy as sp\n",
    "import sys\n",
    "import pandas as pd\n",
    "import torch\n",
    "import torch_geometric\n",
    "import os.path\n",
    "sys.path.insert(1, '../')\n",
    "import matplotlib.pyplot as plt\n",
    "from scipy.io import mmread, mmwrite\n",
    "from numpy import savetxt\n",
    "%load_ext autoreload\n",
    "%autoreload 2"
   ]
  },
  {
   "cell_type": "code",
   "execution_count": 2,
   "id": "6f9bfb8c",
   "metadata": {},
   "outputs": [],
   "source": [
    "import topovelo as tpv"
   ]
  },
  {
   "cell_type": "code",
   "execution_count": 3,
   "id": "c569c172",
   "metadata": {},
   "outputs": [],
   "source": [
    "dataset = 'Pancreas'\n",
    "root = '/scratch/blaauw_root/blaauw1/gyichen'\n",
    "adata = anndata.read_h5ad(f'{root}/data/{dataset}_pp.h5ad')"
   ]
  },
  {
   "cell_type": "code",
   "execution_count": 4,
   "id": "fcefd2f0",
   "metadata": {},
   "outputs": [],
   "source": [
    "\n",
    "model_path_base = f'{root}/checkpoints/{dataset}'\n",
    "figure_path_base = f'{root}/figures/{dataset}'\n",
    "data_path = f'{root}/data/velovae/continuous/{dataset}'\n",
    "gene_plot = tpv.sample_genes(adata, 4, 'means')"
   ]
  },
  {
   "cell_type": "code",
   "execution_count": 34,
   "id": "b725ff96",
   "metadata": {},
   "outputs": [
    {
     "name": "stdout",
     "output_type": "stream",
     "text": [
      "Estimating ODE parameters...\n"
     ]
    },
    {
     "data": {
      "application/vnd.jupyter.widget-view+json": {
       "model_id": "2b1c8b1ed0734c158fe448506fe29c57",
       "version_major": 2,
       "version_minor": 0
      },
      "text/plain": [
       "  0%|          | 0/2000 [00:00<?, ?it/s]"
      ]
     },
     "metadata": {},
     "output_type": "display_data"
    },
    {
     "name": "stdout",
     "output_type": "stream",
     "text": [
      "Detected 901 velocity genes.\n",
      "Estimating the variance...\n"
     ]
    },
    {
     "data": {
      "application/vnd.jupyter.widget-view+json": {
       "model_id": "19330d73675d4958bc20c12f9894a3f7",
       "version_major": 2,
       "version_minor": 0
      },
      "text/plain": [
       "  0%|          | 0/2000 [00:00<?, ?it/s]"
      ]
     },
     "metadata": {},
     "output_type": "display_data"
    },
    {
     "name": "stdout",
     "output_type": "stream",
     "text": [
      "Initialization using the steady-state and dynamical models.\n",
      "Reinitialize the regular ODE parameters based on estimated global latent time.\n"
     ]
    },
    {
     "data": {
      "application/vnd.jupyter.widget-view+json": {
       "model_id": "eb5eb5dafeec4d19b1b57af11cee15d6",
       "version_major": 2,
       "version_minor": 0
      },
      "text/plain": [
       "  0%|          | 0/2000 [00:00<?, ?it/s]"
      ]
     },
     "metadata": {},
     "output_type": "display_data"
    },
    {
     "name": "stdout",
     "output_type": "stream",
     "text": [
      "3 clusters detected based on gene co-expression.\n",
      "(0.49, 0.34843595768045504), (0.51, 0.7329538970887918)\n",
      "(0.55, 0.31774595674199757), (0.45, 0.7678039422838004)\n",
      "(0.57, 0.812504473951968), (0.43, 0.44401169136605384)\n",
      "KS-test result: [0. 0. 0.]\n",
      "Initial induction: 1163, repression: 837/2000\n"
     ]
    }
   ],
   "source": [
    "figure_path = f'{figure_path_base}/Graph'\n",
    "model_path = f'{model_path_base}/Graph'\n",
    "\n",
    "torch.manual_seed(2022)\n",
    "np.random.seed(2022)\n",
    "\n",
    "vae = tpv.VAE(adata, \n",
    "              tmax=20, \n",
    "              dim_z=5, \n",
    "              device='cpu',\n",
    "              attention=False)"
   ]
  },
  {
   "cell_type": "code",
   "execution_count": 6,
   "id": "02055ad3",
   "metadata": {
    "scrolled": true
   },
   "outputs": [],
   "source": [
    "graph = adata.obsp['connectivities']"
   ]
  },
  {
   "cell_type": "code",
   "execution_count": null,
   "id": "b5754700",
   "metadata": {
    "scrolled": true
   },
   "outputs": [
    {
     "name": "stdout",
     "output_type": "stream",
     "text": [
      "Learning Rate based on Data Sparsity: 0.0002\n",
      "--------------------------- Train a VeloVAE ---------------------------\n",
      "*********               Creating a Graph Dataset              *********\n",
      "*********                      Finished.                      *********\n",
      "*********                 Creating optimizers                 *********\n",
      "*********                      Finished.                      *********\n",
      "*********                    Start training                   *********\n",
      "*********                      Stage  1                       *********\n",
      "Epoch 1: Train ELBO = 38058.233,\tTest ELBO = 79154.287,\tTotal Time =   0 h :  0 m : 23 s\n",
      "Epoch 2: Train ELBO = 31499.737,\tTest ELBO = 44320.149,\tTotal Time =   0 h :  0 m : 44 s\n",
      "Epoch 3: Train ELBO = 30065.016,\tTest ELBO = 44320.149,\tTotal Time =   0 h :  1 m :  2 s\n",
      "Epoch 4: Train ELBO = 29587.979,\tTest ELBO = 44320.149,\tTotal Time =   0 h :  1 m : 20 s\n",
      "Epoch 5: Train ELBO = 28657.596,\tTest ELBO = 44320.149,\tTotal Time =   0 h :  1 m : 38 s\n",
      "Epoch 6: Train ELBO = 29028.063,\tTest ELBO = 44320.149,\tTotal Time =   0 h :  1 m : 55 s\n",
      "Epoch 7: Train ELBO = 29373.226,\tTest ELBO = 44320.149,\tTotal Time =   0 h :  2 m : 13 s\n",
      "Epoch 8: Train ELBO = 29726.192,\tTest ELBO = 44320.149,\tTotal Time =   0 h :  2 m : 30 s\n",
      "Epoch 9: Train ELBO = 28301.031,\tTest ELBO = 44320.149,\tTotal Time =   0 h :  2 m : 49 s\n",
      "Epoch 10: Train ELBO = 29460.896,\tTest ELBO = 44320.149,\tTotal Time =   0 h :  3 m :  7 s\n",
      "Epoch 11: Train ELBO = 29296.723,\tTest ELBO = 23110.337,\tTotal Time =   0 h :  3 m : 29 s\n",
      "Epoch 12: Train ELBO = 27360.596,\tTest ELBO = 23110.337,\tTotal Time =   0 h :  3 m : 47 s\n",
      "Epoch 13: Train ELBO = 27104.070,\tTest ELBO = 23110.337,\tTotal Time =   0 h :  4 m :  5 s\n",
      "Epoch 14: Train ELBO = 27380.377,\tTest ELBO = 23110.337,\tTotal Time =   0 h :  4 m : 24 s\n",
      "Epoch 15: Train ELBO = 27366.713,\tTest ELBO = 23110.337,\tTotal Time =   0 h :  4 m : 43 s\n",
      "Epoch 16: Train ELBO = 25414.156,\tTest ELBO = 23110.337,\tTotal Time =   0 h :  5 m :  1 s\n",
      "Epoch 17: Train ELBO = 26244.279,\tTest ELBO = 23110.337,\tTotal Time =   0 h :  5 m : 19 s\n",
      "Epoch 18: Train ELBO = 24942.684,\tTest ELBO = 23110.337,\tTotal Time =   0 h :  5 m : 38 s\n",
      "Epoch 19: Train ELBO = 25350.236,\tTest ELBO = 23110.337,\tTotal Time =   0 h :  5 m : 57 s\n",
      "Epoch 20: Train ELBO = 25118.673,\tTest ELBO = 23110.337,\tTotal Time =   0 h :  6 m : 16 s\n",
      "Epoch 21: Train ELBO = 23468.504,\tTest ELBO = 16679.676,\tTotal Time =   0 h :  6 m : 39 s\n",
      "Epoch 22: Train ELBO = 24228.816,\tTest ELBO = 16679.676,\tTotal Time =   0 h :  6 m : 58 s\n",
      "Epoch 23: Train ELBO = 22960.094,\tTest ELBO = 16679.676,\tTotal Time =   0 h :  7 m : 17 s\n",
      "Epoch 24: Train ELBO = 23097.046,\tTest ELBO = 16679.676,\tTotal Time =   0 h :  7 m : 36 s\n",
      "Epoch 25: Train ELBO = 23354.832,\tTest ELBO = 16679.676,\tTotal Time =   0 h :  7 m : 54 s\n",
      "Epoch 26: Train ELBO = 22501.310,\tTest ELBO = 16679.676,\tTotal Time =   0 h :  8 m : 13 s\n",
      "Epoch 27: Train ELBO = 21523.589,\tTest ELBO = 16679.676,\tTotal Time =   0 h :  8 m : 33 s\n",
      "Epoch 28: Train ELBO = 22920.745,\tTest ELBO = 16679.676,\tTotal Time =   0 h :  8 m : 51 s\n",
      "Epoch 29: Train ELBO = 22125.947,\tTest ELBO = 16679.676,\tTotal Time =   0 h :  9 m :  9 s\n",
      "Epoch 30: Train ELBO = 20712.020,\tTest ELBO = 16679.676,\tTotal Time =   0 h :  9 m : 28 s\n"
     ]
    }
   ],
   "source": [
    "config = {\n",
    "    'n_warmup': 10,\n",
    "    'save_epoch': 1,\n",
    "}\n",
    "vae.train(adata, graph, config=config, plot=True, gene_plot=gene_plot, figure_path=figure_path)\n",
    "#vae.save_model(model_path, 'encoder', 'decoder')\n",
    "#vae.save_anndata(adata, 'velovae', data_path, file_name=f'{dataset}.h5ad')"
   ]
  },
  {
   "cell_type": "code",
   "execution_count": 130,
   "id": "4d29634f",
   "metadata": {},
   "outputs": [],
   "source": [
    "gidx = np.where(adata.var_names=='Pcsk2')[0][0]"
   ]
  },
  {
   "cell_type": "code",
   "execution_count": 131,
   "id": "8ec547b9",
   "metadata": {},
   "outputs": [
    {
     "data": {
      "text/plain": [
       "tensor([-0.0808,  0.0808], grad_fn=<SelectBackward0>)"
      ]
     },
     "execution_count": 131,
     "metadata": {},
     "output_type": "execute_result"
    }
   ],
   "source": [
    "vae.decoder.logit_pw[gidx]"
   ]
  },
  {
   "cell_type": "code",
   "execution_count": null,
   "id": "a4f6ecf6",
   "metadata": {},
   "outputs": [],
   "source": []
  }
 ],
 "metadata": {
  "kernelspec": {
   "display_name": "velo_env",
   "language": "python",
   "name": "velo_env"
  },
  "language_info": {
   "codemirror_mode": {
    "name": "ipython",
    "version": 3
   },
   "file_extension": ".py",
   "mimetype": "text/x-python",
   "name": "python",
   "nbconvert_exporter": "python",
   "pygments_lexer": "ipython3",
   "version": "3.9.0"
  }
 },
 "nbformat": 4,
 "nbformat_minor": 5
}
