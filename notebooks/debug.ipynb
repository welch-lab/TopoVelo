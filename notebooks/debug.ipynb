{
 "cells": [
  {
   "cell_type": "code",
   "execution_count": 1,
   "id": "9913cf22",
   "metadata": {},
   "outputs": [],
   "source": [
    "import anndata\n",
    "import numpy as np\n",
    "import scipy as sp\n",
    "import scvelo as scv\n",
    "import scanpy as sc\n",
    "import sys\n",
    "import pandas as pd\n",
    "import torch\n",
    "import os.path\n",
    "sys.path.append('../')\n",
    "import topovelo as tpv\n",
    "import matplotlib.pyplot as plt\n",
    "from scipy.io import mmread, mmwrite\n",
    "from numpy import savetxt\n",
    "%load_ext autoreload\n",
    "%autoreload 2"
   ]
  },
  {
   "cell_type": "code",
   "execution_count": 2,
   "id": "d8f0beab",
   "metadata": {},
   "outputs": [],
   "source": [
    "dataset = 'Dentategyrus'\n",
    "root = \"/scratch/blaauw_root/blaauw1/gyichen\"\n",
    "adata = anndata.read_h5ad(f'{root}/data/{dataset}_pp.h5ad')"
   ]
  },
  {
   "cell_type": "code",
   "execution_count": 8,
   "id": "ea75260a",
   "metadata": {},
   "outputs": [
    {
     "data": {
      "text/html": [
       "<div>\n",
       "<style scoped>\n",
       "    .dataframe tbody tr th:only-of-type {\n",
       "        vertical-align: middle;\n",
       "    }\n",
       "\n",
       "    .dataframe tbody tr th {\n",
       "        vertical-align: top;\n",
       "    }\n",
       "\n",
       "    .dataframe thead th {\n",
       "        text-align: right;\n",
       "    }\n",
       "</style>\n",
       "<table border=\"1\" class=\"dataframe\">\n",
       "  <thead>\n",
       "    <tr style=\"text-align: right;\">\n",
       "      <th></th>\n",
       "      <th>gene_count_corr</th>\n",
       "      <th>means</th>\n",
       "      <th>dispersions</th>\n",
       "      <th>dispersions_norm</th>\n",
       "      <th>highly_variable</th>\n",
       "    </tr>\n",
       "    <tr>\n",
       "      <th>index</th>\n",
       "      <th></th>\n",
       "      <th></th>\n",
       "      <th></th>\n",
       "      <th></th>\n",
       "      <th></th>\n",
       "    </tr>\n",
       "  </thead>\n",
       "  <tbody>\n",
       "    <tr>\n",
       "      <th>Tcea1</th>\n",
       "      <td>-0.0993</td>\n",
       "      <td>0.105639</td>\n",
       "      <td>0.374601</td>\n",
       "      <td>0.332928</td>\n",
       "      <td>True</td>\n",
       "    </tr>\n",
       "    <tr>\n",
       "      <th>Rb1cc1</th>\n",
       "      <td>-0.0002</td>\n",
       "      <td>0.215175</td>\n",
       "      <td>1.007291</td>\n",
       "      <td>2.114861</td>\n",
       "      <td>True</td>\n",
       "    </tr>\n",
       "    <tr>\n",
       "      <th>Prex2</th>\n",
       "      <td>-0.1030</td>\n",
       "      <td>0.050708</td>\n",
       "      <td>0.445865</td>\n",
       "      <td>0.551174</td>\n",
       "      <td>True</td>\n",
       "    </tr>\n",
       "    <tr>\n",
       "      <th>Tmeff2</th>\n",
       "      <td>-0.0320</td>\n",
       "      <td>0.437797</td>\n",
       "      <td>0.998461</td>\n",
       "      <td>1.449496</td>\n",
       "      <td>True</td>\n",
       "    </tr>\n",
       "    <tr>\n",
       "      <th>Gm10561</th>\n",
       "      <td>-0.1113</td>\n",
       "      <td>0.025952</td>\n",
       "      <td>1.188372</td>\n",
       "      <td>2.825089</td>\n",
       "      <td>True</td>\n",
       "    </tr>\n",
       "  </tbody>\n",
       "</table>\n",
       "</div>"
      ],
      "text/plain": [
       "         gene_count_corr     means  dispersions  dispersions_norm  \\\n",
       "index                                                               \n",
       "Tcea1            -0.0993  0.105639     0.374601          0.332928   \n",
       "Rb1cc1           -0.0002  0.215175     1.007291          2.114861   \n",
       "Prex2            -0.1030  0.050708     0.445865          0.551174   \n",
       "Tmeff2           -0.0320  0.437797     0.998461          1.449496   \n",
       "Gm10561          -0.1113  0.025952     1.188372          2.825089   \n",
       "\n",
       "         highly_variable  \n",
       "index                     \n",
       "Tcea1               True  \n",
       "Rb1cc1              True  \n",
       "Prex2               True  \n",
       "Tmeff2              True  \n",
       "Gm10561             True  "
      ]
     },
     "execution_count": 8,
     "metadata": {},
     "output_type": "execute_result"
    }
   ],
   "source": [
    "adata.var.head()"
   ]
  },
  {
   "cell_type": "code",
   "execution_count": 3,
   "id": "fcefd2f0",
   "metadata": {},
   "outputs": [],
   "source": [
    "model_path_base = f'{root}/checkpoints/{dataset}'\n",
    "figure_path_base = f'{root}/figures/{dataset}'\n",
    "data_path = f'{root}/data/velovae/continuous/{dataset}'\n",
    "gene_plot = tpv.sample_genes(adata, 4, 'means')"
   ]
  },
  {
   "cell_type": "code",
   "execution_count": 5,
   "id": "b725ff96",
   "metadata": {},
   "outputs": [
    {
     "name": "stdout",
     "output_type": "stream",
     "text": [
      "Estimating ODE parameters...\n"
     ]
    },
    {
     "data": {
      "application/vnd.jupyter.widget-view+json": {
       "model_id": "f987796dc3a14e4ca24ed426ff3a297d",
       "version_major": 2,
       "version_minor": 0
      },
      "text/plain": [
       "  0%|          | 0/1000 [00:00<?, ?it/s]"
      ]
     },
     "metadata": {},
     "output_type": "display_data"
    },
    {
     "name": "stdout",
     "output_type": "stream",
     "text": [
      "Detected 255 velocity genes.\n",
      "Estimating the variance...\n"
     ]
    },
    {
     "data": {
      "application/vnd.jupyter.widget-view+json": {
       "model_id": "7cbdc8bd3d3140e98b7dfd3adc591789",
       "version_major": 2,
       "version_minor": 0
      },
      "text/plain": [
       "  0%|          | 0/1000 [00:00<?, ?it/s]"
      ]
     },
     "metadata": {},
     "output_type": "display_data"
    },
    {
     "name": "stdout",
     "output_type": "stream",
     "text": [
      "Initialization using the steady-state and dynamical models.\n",
      "Reinitialize the regular ODE parameters based on estimated global latent time.\n"
     ]
    },
    {
     "data": {
      "application/vnd.jupyter.widget-view+json": {
       "model_id": "4067e5c669a34ce482a9fb6082ad5a99",
       "version_major": 2,
       "version_minor": 0
      },
      "text/plain": [
       "  0%|          | 0/1000 [00:00<?, ?it/s]"
      ]
     },
     "metadata": {},
     "output_type": "display_data"
    },
    {
     "name": "stdout",
     "output_type": "stream",
     "text": [
      "3 clusters detected based on gene co-expression.\n",
      "(0.70, 0.8276461110034795), (0.30, 0.33719022151889355)\n",
      "(0.50, 0.7812572084899341), (0.50, 0.2642154925943826)\n",
      "(0.55, 0.7841723167950118), (0.45, 0.2521193684810272)\n",
      "KS-test result: [0. 0. 0.]\n",
      "Initial induction: 609, repression: 391/1000\n",
      "Gaussian Prior.\n"
     ]
    }
   ],
   "source": [
    "figure_path = f'{figure_path_base}/Graph'\n",
    "model_path = f'{model_path_base}/Graph'\n",
    "\n",
    "torch.manual_seed(2022)\n",
    "np.random.seed(2022)\n",
    "\n",
    "vae = tpv.VAE(adata, \n",
    "              tmax=20, \n",
    "              dim_z=5, \n",
    "              device='cuda:0')"
   ]
  },
  {
   "cell_type": "code",
   "execution_count": 6,
   "id": "02055ad3",
   "metadata": {},
   "outputs": [],
   "source": [
    "graph = adata.uns['neighbors']['connectivities']"
   ]
  },
  {
   "cell_type": "code",
   "execution_count": null,
   "id": "9ea9d459",
   "metadata": {},
   "outputs": [],
   "source": [
    "!nvidia-smi"
   ]
  },
  {
   "cell_type": "code",
   "execution_count": null,
   "id": "b5754700",
   "metadata": {
    "scrolled": false
   },
   "outputs": [
    {
     "name": "stdout",
     "output_type": "stream",
     "text": [
      "--------------------------- Train a VeloVAE ---------------------------\n",
      "*********        Creating Training/Validation Datasets        *********\n",
      "*********                      Finished.                      *********\n",
      "*********                 Creating optimizers                 *********\n",
      "*********                      Finished.                      *********\n",
      "*********                    Start training                   *********\n",
      "*********                      Stage  1                       *********\n",
      "Total Number of Iterations Per Epoch: 17,test iteration: 32\n",
      "Epoch 1: Train ELBO = -38464.203,\tTest ELBO = -40606.293,\tTotal Time =   0 h :  0 m : 21 s\n"
     ]
    }
   ],
   "source": [
    "vae.train(adata, graph, plot=True, gene_plot=gene_plot, figure_path=figure_path)\n",
    "#vae.save_model(model_path, 'encoder', 'decoder')\n",
    "#vae.save_anndata(adata, 'velovae', data_path, file_name=f'{dataset}.h5ad')"
   ]
  },
  {
   "cell_type": "code",
   "execution_count": 32,
   "id": "02e62fb2",
   "metadata": {},
   "outputs": [
    {
     "data": {
      "text/plain": [
       "dtype('int64')"
      ]
     },
     "execution_count": 32,
     "metadata": {},
     "output_type": "execute_result"
    }
   ],
   "source": [
    "vae.graph_data.neighbor_indices.dtype"
   ]
  },
  {
   "cell_type": "code",
   "execution_count": 34,
   "id": "45e28e4a",
   "metadata": {},
   "outputs": [
    {
     "data": {
      "text/plain": [
       "torch.float32"
      ]
     },
     "execution_count": 34,
     "metadata": {},
     "output_type": "execute_result"
    }
   ],
   "source": [
    "vae.encoder.bias_1.dtype"
   ]
  },
  {
   "cell_type": "code",
   "execution_count": 46,
   "id": "e5e6245a",
   "metadata": {},
   "outputs": [
    {
     "data": {
      "text/plain": [
       "torch.float64"
      ]
     },
     "execution_count": 46,
     "metadata": {},
     "output_type": "execute_result"
    }
   ],
   "source": [
    "vae.encoder.bias_2.dtype"
   ]
  },
  {
   "cell_type": "code",
   "execution_count": null,
   "id": "8ec547b9",
   "metadata": {},
   "outputs": [],
   "source": []
  }
 ],
 "metadata": {
  "kernelspec": {
   "display_name": "Python 3",
   "language": "python",
   "name": "python3"
  },
  "language_info": {
   "codemirror_mode": {
    "name": "ipython",
    "version": 3
   },
   "file_extension": ".py",
   "mimetype": "text/x-python",
   "name": "python",
   "nbconvert_exporter": "python",
   "pygments_lexer": "ipython3",
   "version": "3.9.7"
  }
 },
 "nbformat": 4,
 "nbformat_minor": 5
}
