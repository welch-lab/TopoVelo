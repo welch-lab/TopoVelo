{
 "cells": [
  {
   "cell_type": "code",
   "execution_count": 1,
   "id": "9913cf22",
   "metadata": {},
   "outputs": [],
   "source": [
    "import anndata\n",
    "import numpy as np\n",
    "import scipy as sp\n",
    "import sys\n",
    "# import pandas as pd\n",
    "import torch\n",
    "import torch_geometric\n",
    "import os.path\n",
    "sys.path.insert(1, '../')\n",
    "import matplotlib.pyplot as plt\n",
    "from scipy.io import mmread, mmwrite\n",
    "from numpy import savetxt\n",
    "%load_ext autoreload\n",
    "%autoreload 2"
   ]
  },
  {
   "cell_type": "code",
   "execution_count": 2,
   "id": "6f9bfb8c",
   "metadata": {},
   "outputs": [],
   "source": [
    "import topovelo as tpv"
   ]
  },
  {
   "cell_type": "code",
   "execution_count": 3,
   "id": "c569c172",
   "metadata": {},
   "outputs": [],
   "source": [
    "dataset = 'Pancreas'\n",
    "root = '/scratch/blaauw_root/blaauw1/gyichen'\n",
    "adata = anndata.read_h5ad(f'{root}/data/{dataset}_pp.h5ad')"
   ]
  },
  {
   "cell_type": "code",
   "execution_count": 4,
   "id": "fcefd2f0",
   "metadata": {},
   "outputs": [],
   "source": [
    "\n",
    "model_path_base = f'{root}/checkpoints/{dataset}'\n",
    "figure_path_base = f'{root}/figures/{dataset}'\n",
    "data_path = f'{root}/data/velovae/continuous/{dataset}'\n",
    "gene_plot = tpv.sample_genes(adata, 4, 'means')"
   ]
  },
  {
   "cell_type": "code",
   "execution_count": 47,
   "id": "b725ff96",
   "metadata": {},
   "outputs": [
    {
     "name": "stdout",
     "output_type": "stream",
     "text": [
      "Estimating ODE parameters...\n"
     ]
    },
    {
     "data": {
      "application/vnd.jupyter.widget-view+json": {
       "model_id": "f37d3d2be2474602aa76116174750ea4",
       "version_major": 2,
       "version_minor": 0
      },
      "text/plain": [
       "  0%|          | 0/2000 [00:00<?, ?it/s]"
      ]
     },
     "metadata": {},
     "output_type": "display_data"
    },
    {
     "name": "stdout",
     "output_type": "stream",
     "text": [
      "Detected 901 velocity genes.\n",
      "Estimating the variance...\n"
     ]
    },
    {
     "data": {
      "application/vnd.jupyter.widget-view+json": {
       "model_id": "d60efa10cb1343309f31bd38a57db271",
       "version_major": 2,
       "version_minor": 0
      },
      "text/plain": [
       "  0%|          | 0/2000 [00:00<?, ?it/s]"
      ]
     },
     "metadata": {},
     "output_type": "display_data"
    },
    {
     "name": "stdout",
     "output_type": "stream",
     "text": [
      "Initialization using the steady-state and dynamical models.\n",
      "Reinitialize the regular ODE parameters based on estimated global latent time.\n"
     ]
    },
    {
     "data": {
      "application/vnd.jupyter.widget-view+json": {
       "model_id": "f84b1bdd616e4e8e9baeab923a419464",
       "version_major": 2,
       "version_minor": 0
      },
      "text/plain": [
       "  0%|          | 0/2000 [00:00<?, ?it/s]"
      ]
     },
     "metadata": {},
     "output_type": "display_data"
    },
    {
     "name": "stdout",
     "output_type": "stream",
     "text": [
      "3 clusters detected based on gene co-expression.\n",
      "(0.49, 0.34843595768045504), (0.51, 0.7329538970887918)\n",
      "(0.55, 0.31774595674199757), (0.45, 0.7678039422838004)\n",
      "(0.57, 0.812504473951968), (0.43, 0.44401169136605384)\n",
      "KS-test result: [0. 0. 0.]\n",
      "Initial induction: 1163, repression: 837/2000\n"
     ]
    }
   ],
   "source": [
    "figure_path = f'{figure_path_base}/Graph'\n",
    "model_path = f'{model_path_base}/Graph'\n",
    "\n",
    "torch.manual_seed(2022)\n",
    "np.random.seed(2022)\n",
    "\n",
    "vae = tpv.VAE(adata, \n",
    "              tmax=20, \n",
    "              dim_z=5, \n",
    "              device='cuda:0',\n",
    "              attention=False)"
   ]
  },
  {
   "cell_type": "code",
   "execution_count": 6,
   "id": "02055ad3",
   "metadata": {
    "scrolled": true
   },
   "outputs": [],
   "source": [
    "graph = adata.obsp['connectivities']"
   ]
  },
  {
   "cell_type": "code",
   "execution_count": 48,
   "id": "b5754700",
   "metadata": {
    "scrolled": true
   },
   "outputs": [
    {
     "name": "stdout",
     "output_type": "stream",
     "text": [
      "Learning Rate based on Data Sparsity: 0.0002\n",
      "--------------------------- Train a VeloVAE ---------------------------\n",
      "*********               Creating a Graph Dataset              *********\n",
      "*********                      Finished.                      *********\n",
      "*********                 Creating optimizers                 *********\n",
      "*********                      Finished.                      *********\n",
      "*********                    Start training                   *********\n",
      "*********                      Stage  1                       *********\n",
      "Epoch 1: Train ELBO = -20669.241,\tTest ELBO = -41598.500,\tTotal Time =   0 h :  0 m :  4 s\n",
      "Epoch 100: Train ELBO = 1386.257,\tTest ELBO = 1641.096,\tTotal Time =   0 h :  2 m : 44 s\n",
      "Epoch 200: Train ELBO = 1658.981,\tTest ELBO = 1933.490,\tTotal Time =   0 h :  5 m : 24 s\n",
      "Epoch 300: Train ELBO = 1712.324,\tTest ELBO = 1824.349,\tTotal Time =   0 h :  8 m :  5 s\n",
      "Epoch 400: Train ELBO = 1841.306,\tTest ELBO = 1968.972,\tTotal Time =   0 h : 10 m : 45 s\n",
      "Epoch 500: Train ELBO = 2093.988,\tTest ELBO = 2163.989,\tTotal Time =   0 h : 13 m : 26 s\n",
      "Epoch 600: Train ELBO = 2074.145,\tTest ELBO = 2020.426,\tTotal Time =   0 h : 16 m :  6 s\n",
      "*********       Stage 1: Early Stop Triggered at epoch 620.       *********\n",
      "*********                      Stage  2                       *********\n",
      "*********             Velocity Refinement Round 1              *********\n"
     ]
    },
    {
     "data": {
      "application/vnd.jupyter.widget-view+json": {
       "model_id": "b9b8ccf1dbba4f3080d5b74aec8f2ee6",
       "version_major": 2,
       "version_minor": 0
      },
      "text/plain": [
       "  0%|          | 0/3696 [00:00<?, ?it/s]"
      ]
     },
     "metadata": {},
     "output_type": "display_data"
    },
    {
     "name": "stdout",
     "output_type": "stream",
     "text": [
      "Percentage of Invalid Sets: 0.038\n",
      "Average Set Size: 74\n",
      "Epoch 621: Train ELBO = -894.095,\tTest ELBO = -2970.115,\tTotal Time =   0 h : 16 m : 44 s\n",
      "Epoch 700: Train ELBO = 5105.028,\tTest ELBO = 5128.984,\tTotal Time =   0 h : 17 m : 44 s\n",
      "Epoch 800: Train ELBO = 5441.212,\tTest ELBO = 5516.784,\tTotal Time =   0 h : 18 m : 59 s\n",
      "Epoch 900: Train ELBO = 5689.731,\tTest ELBO = 5764.171,\tTotal Time =   0 h : 20 m : 13 s\n",
      "Epoch 1000: Train ELBO = 5883.745,\tTest ELBO = 5948.661,\tTotal Time =   0 h : 21 m : 27 s\n",
      "Epoch 1100: Train ELBO = 6052.440,\tTest ELBO = 6082.863,\tTotal Time =   0 h : 22 m : 42 s\n",
      "Change in noise variance: 0.5354\n",
      "*********             Velocity Refinement Round 2              *********\n",
      "Epoch 1121: Train ELBO = 5774.401,\tTest ELBO = 5833.003,\tTotal Time =   0 h : 23 m :  2 s\n",
      "Epoch 1200: Train ELBO = 5937.431,\tTest ELBO = 5964.156,\tTotal Time =   0 h : 24 m :  2 s\n",
      "Epoch 1300: Train ELBO = 6047.879,\tTest ELBO = 6070.212,\tTotal Time =   0 h : 25 m : 16 s\n",
      "Epoch 1400: Train ELBO = 6130.162,\tTest ELBO = 6131.936,\tTotal Time =   0 h : 26 m : 30 s\n",
      "Epoch 1500: Train ELBO = 6184.082,\tTest ELBO = 6186.027,\tTotal Time =   0 h : 27 m : 45 s\n",
      "Epoch 1600: Train ELBO = 6213.282,\tTest ELBO = 6229.958,\tTotal Time =   0 h : 28 m : 58 s\n",
      "Change in noise variance: 0.0011\n",
      "Change in x0: 0.1433\n",
      "*********             Velocity Refinement Round 3              *********\n",
      "Epoch 1621: Train ELBO = 6323.627,\tTest ELBO = 6319.450,\tTotal Time =   0 h : 29 m : 18 s\n",
      "Epoch 1700: Train ELBO = 6351.268,\tTest ELBO = 6337.206,\tTotal Time =   0 h : 30 m : 17 s\n",
      "*********       Round 3: Early Stop Triggered at epoch 1742.       *********\n",
      "Change in noise variance: 0.0005\n",
      "Change in x0: 0.0776\n",
      "*********             Velocity Refinement Round 4              *********\n",
      "Epoch 1743: Train ELBO = 6345.938,\tTest ELBO = 6340.071,\tTotal Time =   0 h : 30 m : 52 s\n",
      "Epoch 1800: Train ELBO = 6357.610,\tTest ELBO = 6353.897,\tTotal Time =   0 h : 31 m : 36 s\n",
      "Epoch 1900: Train ELBO = 6379.310,\tTest ELBO = 6358.232,\tTotal Time =   0 h : 32 m : 51 s\n",
      "Epoch 2000: Train ELBO = 6390.751,\tTest ELBO = 6396.988,\tTotal Time =   0 h : 34 m :  5 s\n",
      "Epoch 2100: Train ELBO = 6386.067,\tTest ELBO = 6380.693,\tTotal Time =   0 h : 35 m : 19 s\n",
      "Epoch 2200: Train ELBO = 6388.583,\tTest ELBO = 6396.930,\tTotal Time =   0 h : 36 m : 33 s\n",
      "Change in noise variance: 0.0000\n",
      "Change in x0: 0.0284\n",
      "*********             Velocity Refinement Round 5              *********\n",
      "Epoch 2243: Train ELBO = 6398.231,\tTest ELBO = 6393.373,\tTotal Time =   0 h : 37 m :  8 s\n",
      "Epoch 2300: Train ELBO = 6394.047,\tTest ELBO = 6400.132,\tTotal Time =   0 h : 37 m : 52 s\n",
      "Epoch 2400: Train ELBO = 6405.966,\tTest ELBO = 6409.759,\tTotal Time =   0 h : 39 m :  6 s\n",
      "*********       Round 5: Early Stop Triggered at epoch 2491.       *********\n",
      "Change in noise variance: 0.0000\n",
      "Change in x0: 0.0314\n",
      "*********             Velocity Refinement Round 6              *********\n",
      "Stage 2: Early Stop Triggered at round 5.\n",
      "*********              Finished. Total Time =   0 h : 40 m : 42 s             *********\n",
      "Final: Train ELBO = 6396.230,\tTest ELBO = 6387.855\n"
     ]
    }
   ],
   "source": [
    "config = {\n",
    "    'early_stop_thred': 0.5\n",
    "}\n",
    "vae.train(adata, graph, config=config, plot=True, gene_plot=gene_plot, figure_path=figure_path)\n",
    "#vae.save_model(model_path, 'encoder', 'decoder')\n",
    "#vae.save_anndata(adata, 'velovae', data_path, file_name=f'{dataset}.h5ad')"
   ]
  },
  {
   "cell_type": "code",
   "execution_count": 33,
   "id": "1ad70f3e",
   "metadata": {},
   "outputs": [],
   "source": [
    "vae.save_anndata(adata, 'velovae', data_path, file_name=None)"
   ]
  },
  {
   "cell_type": "code",
   "execution_count": 39,
   "id": "c617217f",
   "metadata": {},
   "outputs": [
    {
     "name": "stdout",
     "output_type": "stream",
     "text": [
      "Computing velocity embedding using scVelo\n",
      "computing velocity graph (using 1/32 cores)\n"
     ]
    },
    {
     "data": {
      "application/vnd.jupyter.widget-view+json": {
       "model_id": "4ecb6ca4845a42e784503c94b2ddb316",
       "version_major": 2,
       "version_minor": 0
      },
      "text/plain": [
       "  0%|          | 0/3696 [00:00<?, ?cells/s]"
      ]
     },
     "metadata": {},
     "output_type": "display_data"
    },
    {
     "name": "stdout",
     "output_type": "stream",
     "text": [
      "    finished (0:00:29) --> added \n",
      "    'velovae_velocity_graph', sparse matrix with cosine correlations (adata.uns)\n",
      "computing velocity embedding\n",
      "    finished (0:00:00) --> added\n",
      "    'velovae_velocity_umap', embedded velocity vectors (adata.obsm)\n",
      "---     Computing Peformance Metrics     ---\n",
      "Dataset Size: 3696 cells, 2000 genes\n",
      "---   Plotting  Results   ---\n",
      "saving figure to file /scratch/blaauw_root/blaauw1/gyichen/figures/Pancreas/Graph/Pancreas_velovae_stream.png\n"
     ]
    }
   ],
   "source": [
    "cluster_edges = [('Ngn3 low EP', 'Ngn3 high EP'),\n",
    "                 ('Ngn3 high EP', 'Pre-endocrine'),\n",
    "                 ('Pre-endocrine', 'Delta'),\n",
    "                 ('Pre-endocrine', 'Beta'),\n",
    "                 ('Pre-endocrine', 'Epsilon'),\n",
    "                 ('Pre-endocrine', 'Alpha')]\n",
    "res, res_type = tpv.post_analysis(adata,\n",
    "                                 dataset,\n",
    "                                 ['VeloVAE'],\n",
    "                                 ['velovae'],\n",
    "                                 compute_metrics=True,\n",
    "                                 genes=gene_plot,\n",
    "                                 grid_size=(1,4),\n",
    "                                 figure_path=figure_path,\n",
    "                                 cluster_edges=cluster_edges)"
   ]
  },
  {
   "cell_type": "code",
   "execution_count": null,
   "id": "c65cbbf0",
   "metadata": {},
   "outputs": [],
   "source": []
  }
 ],
 "metadata": {
  "kernelspec": {
   "display_name": "velo_env",
   "language": "python",
   "name": "velo_env"
  },
  "language_info": {
   "codemirror_mode": {
    "name": "ipython",
    "version": 3
   },
   "file_extension": ".py",
   "mimetype": "text/x-python",
   "name": "python",
   "nbconvert_exporter": "python",
   "pygments_lexer": "ipython3",
   "version": "3.9.0"
  }
 },
 "nbformat": 4,
 "nbformat_minor": 5
}
