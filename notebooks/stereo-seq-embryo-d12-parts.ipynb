{
 "cells": [
  {
   "cell_type": "code",
   "execution_count": 1,
   "id": "37852727",
   "metadata": {},
   "outputs": [],
   "source": [
    "import anndata\n",
    "import numpy as np\n",
    "import scvelo as scv\n",
    "import scanpy as sc\n",
    "import sys\n",
    "import pandas as pd\n",
    "import torch\n",
    "import os.path\n",
    "sys.path.append('../../')\n",
    "import velovae as vv\n",
    "import matplotlib.pyplot as plt\n",
    "import umap\n",
    "from scipy.io import mmwrite\n",
    "from numpy import savetxt\n",
    "# import cProfile"
   ]
  },
  {
   "cell_type": "code",
   "execution_count": 2,
   "id": "0171a92d",
   "metadata": {},
   "outputs": [],
   "source": [
    "path = \"/gpfs/accounts/welchjd_root/welchjd0/shared_data/stereo_seq_newCopy/E12.5/E1S1_binned_velocity/\"\n",
    "save_path = \"/nfs/turbo/umms-welchjd/yichen/data/scRNA/CytoSignal_Jialin/output\"\n",
    "figure_path_base = f\"/scratch/welchjd_root/welchjd/shared_data\""
   ]
  },
  {
   "cell_type": "code",
   "execution_count": null,
   "id": "824d32f5",
   "metadata": {},
   "outputs": [],
   "source": [
    "adata = anndata.read_h5ad(f\"{save_path}/stereo_seq_embryo_d12/embryo_d12.h5ad\")"
   ]
  },
  {
   "cell_type": "code",
   "execution_count": null,
   "id": "a11e72a4",
   "metadata": {},
   "outputs": [],
   "source": [
    "genes_df = pd.read_csv(\"/nfs/turbo/umms-welchjd/yichen/data/scRNA/CytoSignal_Jialin/intr.genes.list.csv\", header=None)\n",
    "genes_retain = genes_df[0].to_numpy()"
   ]
  },
  {
   "cell_type": "markdown",
   "id": "ece65564",
   "metadata": {},
   "source": [
    "# Brain"
   ]
  },
  {
   "cell_type": "code",
   "execution_count": 3,
   "id": "624b430f",
   "metadata": {},
   "outputs": [],
   "source": [
    "data_name = \"stereo_seq_embryo_d12_brain\""
   ]
  },
  {
   "cell_type": "code",
   "execution_count": null,
   "id": "56dbaba7",
   "metadata": {},
   "outputs": [],
   "source": [
    "adata_brain = adata[adata.obs['clusters']=='Brain']"
   ]
  },
  {
   "cell_type": "markdown",
   "id": "8fe71d2c",
   "metadata": {},
   "source": [
    "## Preprocessing"
   ]
  },
  {
   "cell_type": "code",
   "execution_count": null,
   "id": "af06be55",
   "metadata": {},
   "outputs": [],
   "source": [
    "vv.preprocess(adata_brain, \n",
    "              n_gene=1000, \n",
    "              min_count_per_cell=0,\n",
    "              compute_umap=True, \n",
    "              resolution=0.5,\n",
    "              genes_retain=genes_retain)"
   ]
  },
  {
   "cell_type": "code",
   "execution_count": null,
   "id": "490de843",
   "metadata": {},
   "outputs": [],
   "source": [
    "print(len(set(genes_retain).intersection(set(adata_brain.var_names))))"
   ]
  },
  {
   "cell_type": "code",
   "execution_count": null,
   "id": "e492b2b1",
   "metadata": {},
   "outputs": [],
   "source": [
    "adata_brain.write_h5ad(f\"{save_path}/{data_name}/embryo_d12_brain_pp.h5ad\")"
   ]
  },
  {
   "cell_type": "markdown",
   "id": "b671903c",
   "metadata": {},
   "source": [
    "## Train Model"
   ]
  },
  {
   "cell_type": "code",
   "execution_count": 4,
   "id": "7f2626ef",
   "metadata": {},
   "outputs": [],
   "source": [
    "adata_brain = anndata.read_h5ad(f\"{save_path}/{data_name}/embryo_d12_brain_pp.h5ad\")"
   ]
  },
  {
   "cell_type": "code",
   "execution_count": 6,
   "id": "4b1fcee6",
   "metadata": {},
   "outputs": [
    {
     "name": "stdout",
     "output_type": "stream",
     "text": [
      "Estimating ODE parameters...\n"
     ]
    },
    {
     "data": {
      "application/vnd.jupyter.widget-view+json": {
       "model_id": "835d6677dd7548eabf0b134d9d0d173c",
       "version_major": 2,
       "version_minor": 0
      },
      "text/plain": [
       "  0%|          | 0/1469 [00:00<?, ?it/s]"
      ]
     },
     "metadata": {},
     "output_type": "display_data"
    },
    {
     "name": "stdout",
     "output_type": "stream",
     "text": [
      "Detected 279 velocity genes.\n",
      "Estimating the variance...\n"
     ]
    },
    {
     "data": {
      "application/vnd.jupyter.widget-view+json": {
       "model_id": "e4c093ebc62d46dea32080dbc7fb1930",
       "version_major": 2,
       "version_minor": 0
      },
      "text/plain": [
       "  0%|          | 0/1469 [00:00<?, ?it/s]"
      ]
     },
     "metadata": {},
     "output_type": "display_data"
    },
    {
     "name": "stdout",
     "output_type": "stream",
     "text": [
      "3 clusters detected based on gene co-expression.\n",
      "(0.64, 0.7522774429271357), (0.36, 0.12022164866515708)\n",
      "(0.52, 0.7486019979175588), (0.48, 0.13050691493843053)\n",
      "(0.67, 0.39816690366436347), (0.33, 0.7525797476391921)\n",
      "KS-test result: [0. 0. 0.]\n",
      "Initial induction: 761, repression: 708/1469\n",
      "Initialization using the steady-state and dynamical models.\n",
      "Reinitialize the regular ODE parameters based on estimated global latent time.\n"
     ]
    },
    {
     "data": {
      "application/vnd.jupyter.widget-view+json": {
       "model_id": "1b49d650cc9d4e63844d826b2ede7769",
       "version_major": 2,
       "version_minor": 0
      },
      "text/plain": [
       "  0%|          | 0/1469 [00:00<?, ?it/s]"
      ]
     },
     "metadata": {},
     "output_type": "display_data"
    },
    {
     "name": "stdout",
     "output_type": "stream",
     "text": [
      "Gaussian Prior.\n",
      "Learning Rate based on Data Sparsity: 0.0006\n",
      "--------------------------- Train a VeloVAE ---------------------------\n",
      "*********        Creating Training/Validation Datasets        *********\n",
      "*********                      Finished.                      *********\n",
      "*********                 Creating optimizers                 *********\n",
      "*********                      Finished.                      *********\n",
      "*********                    Start training                   *********\n",
      "*********                      Stage  1                       *********\n",
      "Total Number of Iterations Per Epoch: 64, test iteration: 126\n",
      "*********       Stage 1: Early Stop Triggered at epoch 930.       *********\n",
      "*********                      Stage  2                       *********\n",
      "*********             Velocity Refinement Round 1              *********\n",
      "Cell-wise KNN Estimation.\n"
     ]
    },
    {
     "data": {
      "application/vnd.jupyter.widget-view+json": {
       "model_id": "25544ef01ae34a1a8984cad441a37ff1",
       "version_major": 2,
       "version_minor": 0
      },
      "text/plain": [
       "  0%|          | 0/11525 [00:00<?, ?it/s]"
      ]
     },
     "metadata": {},
     "output_type": "display_data"
    },
    {
     "name": "stdout",
     "output_type": "stream",
     "text": [
      "Percentage of Invalid Sets: 0.043\n",
      "Average Set Size: 231\n",
      "Finished. Actual Time:   0 h :  0 m : 11 s\n",
      "*********       Round 1: Early Stop Triggered at epoch 1220.       *********\n",
      "Change in noise variance: 5.615176677703857\n",
      "*********             Velocity Refinement Round 2              *********\n",
      "Cell-wise KNN Estimation.\n"
     ]
    },
    {
     "data": {
      "application/vnd.jupyter.widget-view+json": {
       "model_id": "0882826169bc4a9bac0c0c53c5e507c4",
       "version_major": 2,
       "version_minor": 0
      },
      "text/plain": [
       "  0%|          | 0/11525 [00:00<?, ?it/s]"
      ]
     },
     "metadata": {},
     "output_type": "display_data"
    },
    {
     "name": "stdout",
     "output_type": "stream",
     "text": [
      "Percentage of Invalid Sets: 0.043\n",
      "Average Set Size: 231\n",
      "Finished. Actual Time:   0 h :  0 m : 11 s\n",
      "*********       Round 2: Early Stop Triggered at epoch 1232.       *********\n",
      "Change in noise variance: 0.030270913615822792\n",
      "Change in x0: 0.4928956541805264\n",
      "*********             Velocity Refinement Round 3              *********\n",
      "Cell-wise KNN Estimation.\n"
     ]
    },
    {
     "data": {
      "application/vnd.jupyter.widget-view+json": {
       "model_id": "20ddf4f2b77f4ed49391565edeb115c0",
       "version_major": 2,
       "version_minor": 0
      },
      "text/plain": [
       "  0%|          | 0/11525 [00:00<?, ?it/s]"
      ]
     },
     "metadata": {},
     "output_type": "display_data"
    },
    {
     "name": "stdout",
     "output_type": "stream",
     "text": [
      "Percentage of Invalid Sets: 0.043\n",
      "Average Set Size: 231\n",
      "Finished. Actual Time:   0 h :  0 m : 11 s\n",
      "*********       Round 3: Early Stop Triggered at epoch 1443.       *********\n",
      "Change in noise variance: 0.12852056324481964\n",
      "Change in x0: 0.23169310622373038\n",
      "*********             Velocity Refinement Round 4              *********\n",
      "Cell-wise KNN Estimation.\n"
     ]
    },
    {
     "data": {
      "application/vnd.jupyter.widget-view+json": {
       "model_id": "4032b71cb3134fd788c00338dbc01e3d",
       "version_major": 2,
       "version_minor": 0
      },
      "text/plain": [
       "  0%|          | 0/11525 [00:00<?, ?it/s]"
      ]
     },
     "metadata": {},
     "output_type": "display_data"
    },
    {
     "name": "stdout",
     "output_type": "stream",
     "text": [
      "Percentage of Invalid Sets: 0.043\n",
      "Average Set Size: 231\n",
      "Finished. Actual Time:   0 h :  0 m : 11 s\n",
      "*********       Round 4: Early Stop Triggered at epoch 1495.       *********\n",
      "Change in noise variance: 0.007262103725224733\n",
      "Change in x0: 0.17460432613740368\n",
      "*********             Velocity Refinement Round 5              *********\n",
      "Cell-wise KNN Estimation.\n"
     ]
    },
    {
     "data": {
      "application/vnd.jupyter.widget-view+json": {
       "model_id": "d1b4500d37794fd69ea9b1d0d3bde35f",
       "version_major": 2,
       "version_minor": 0
      },
      "text/plain": [
       "  0%|          | 0/11525 [00:00<?, ?it/s]"
      ]
     },
     "metadata": {},
     "output_type": "display_data"
    },
    {
     "name": "stdout",
     "output_type": "stream",
     "text": [
      "Percentage of Invalid Sets: 0.043\n",
      "Average Set Size: 231\n",
      "Finished. Actual Time:   0 h :  0 m : 11 s\n",
      "*********       Round 5: Early Stop Triggered at epoch 1566.       *********\n",
      "Change in noise variance: 0.015306109562516212\n",
      "Change in x0: 0.13562320030887334\n",
      "*********             Velocity Refinement Round 6              *********\n",
      "Cell-wise KNN Estimation.\n"
     ]
    },
    {
     "data": {
      "application/vnd.jupyter.widget-view+json": {
       "model_id": "5baa3b224b6e421b8f98f22235203562",
       "version_major": 2,
       "version_minor": 0
      },
      "text/plain": [
       "  0%|          | 0/11525 [00:00<?, ?it/s]"
      ]
     },
     "metadata": {},
     "output_type": "display_data"
    },
    {
     "name": "stdout",
     "output_type": "stream",
     "text": [
      "Percentage of Invalid Sets: 0.043\n",
      "Average Set Size: 231\n",
      "Finished. Actual Time:   0 h :  0 m : 11 s\n",
      "*********       Round 6: Early Stop Triggered at epoch 1600.       *********\n",
      "Change in noise variance: 0.005762095563113689\n",
      "Change in x0: 0.12819582387660072\n",
      "*********             Velocity Refinement Round 7              *********\n",
      "Cell-wise KNN Estimation.\n"
     ]
    },
    {
     "data": {
      "application/vnd.jupyter.widget-view+json": {
       "model_id": "2f3227bdb3bd4aea86f043cdaa8c330d",
       "version_major": 2,
       "version_minor": 0
      },
      "text/plain": [
       "  0%|          | 0/11525 [00:00<?, ?it/s]"
      ]
     },
     "metadata": {},
     "output_type": "display_data"
    },
    {
     "name": "stdout",
     "output_type": "stream",
     "text": [
      "Percentage of Invalid Sets: 0.043\n",
      "Average Set Size: 231\n",
      "Finished. Actual Time:   0 h :  0 m : 11 s\n",
      "*********       Round 7: Early Stop Triggered at epoch 1632.       *********\n",
      "Change in noise variance: 0.0090827327221632\n",
      "Change in x0: 0.1463530272521835\n",
      "*********             Velocity Refinement Round 8              *********\n",
      "Stage 2: Early Stop Triggered at round 7.\n",
      "*********              Finished. Total Time =   0 h : 24 m : 56 s             *********\n",
      "Final: Train ELBO = 12232.753,\tTest ELBO = 12235.343\n"
     ]
    }
   ],
   "source": [
    "figure_path = f\"{figure_path_base}/{data_name}/VAE\"\n",
    "model_path = f\"{save_path}/{data_name}/VAE\"\n",
    "data_path = f\"{save_path}/{data_name}\"\n",
    "torch.manual_seed(2022)\n",
    "np.random.seed(2022)\n",
    "vae = vv.VAE(adata_brain, \n",
    "             tmax=20, \n",
    "             dim_z=5, \n",
    "             device='cuda:0')\n",
    "std_u = np.std(adata_brain.layers['Mu'],0)\n",
    "std_s = np.std(adata_brain.layers['Ms'],0)\n",
    "mask = (std_u > 0.1) & (std_s > 0.1)\n",
    "gene_plot = np.random.choice(adata_brain.var_names[mask], 4)\n",
    "config = {\n",
    "}\n",
    "vae.train(adata_brain, config=config, gene_plot=gene_plot, plot=False, figure_path=figure_path, embed=\"pos\")\n",
    "vae.save_model(model_path, 'velovae', 'velovae')\n",
    "vae.save_anndata(adata_brain, 'velovae', data_path, file_name=\"adata_brain_out.h5ad\")"
   ]
  },
  {
   "cell_type": "code",
   "execution_count": 7,
   "id": "169c2558",
   "metadata": {},
   "outputs": [
    {
     "name": "stdout",
     "output_type": "stream",
     "text": [
      "Estimating ODE parameters...\n"
     ]
    },
    {
     "data": {
      "application/vnd.jupyter.widget-view+json": {
       "model_id": "8942f57a311743eca244055d47913822",
       "version_major": 2,
       "version_minor": 0
      },
      "text/plain": [
       "  0%|          | 0/1469 [00:00<?, ?it/s]"
      ]
     },
     "metadata": {},
     "output_type": "display_data"
    },
    {
     "name": "stdout",
     "output_type": "stream",
     "text": [
      "Detected 279 velocity genes.\n",
      "Estimating the variance...\n"
     ]
    },
    {
     "data": {
      "application/vnd.jupyter.widget-view+json": {
       "model_id": "fee278292ba74259917986f954a0c072",
       "version_major": 2,
       "version_minor": 0
      },
      "text/plain": [
       "  0%|          | 0/1469 [00:00<?, ?it/s]"
      ]
     },
     "metadata": {},
     "output_type": "display_data"
    },
    {
     "name": "stdout",
     "output_type": "stream",
     "text": [
      "3 clusters detected based on gene co-expression.\n",
      "(0.64, 0.7522774429271357), (0.36, 0.12022164866515708)\n",
      "(0.52, 0.7486019979175588), (0.48, 0.13050691493843053)\n",
      "(0.67, 0.39816690366436347), (0.33, 0.7525797476391921)\n",
      "KS-test result: [0. 0. 0.]\n",
      "Initial induction: 761, repression: 708/1469\n",
      "Initialization using the steady-state and dynamical models.\n",
      "Reinitialize the regular ODE parameters based on estimated global latent time.\n"
     ]
    },
    {
     "data": {
      "application/vnd.jupyter.widget-view+json": {
       "model_id": "0910786f7f554cc2846171ba5f7405c6",
       "version_major": 2,
       "version_minor": 0
      },
      "text/plain": [
       "  0%|          | 0/1469 [00:00<?, ?it/s]"
      ]
     },
     "metadata": {},
     "output_type": "display_data"
    },
    {
     "name": "stdout",
     "output_type": "stream",
     "text": [
      "Gaussian Prior.\n",
      "Learning Rate based on Data Sparsity: 0.0006\n",
      "--------------------------- Train a VeloVAE ---------------------------\n",
      "*********        Creating Training/Validation Datasets        *********\n",
      "*********                      Finished.                      *********\n",
      "*********                 Creating optimizers                 *********\n",
      "*********                      Finished.                      *********\n",
      "*********                    Start training                   *********\n",
      "*********                      Stage  1                       *********\n",
      "Total Number of Iterations Per Epoch: 64, test iteration: 126\n",
      "*********                      Stage  2                       *********\n",
      "*********             Velocity Refinement Round 1              *********\n",
      "Cell-wise KNN Estimation.\n"
     ]
    },
    {
     "data": {
      "application/vnd.jupyter.widget-view+json": {
       "model_id": "831a06ff180445819b4785be1e38413e",
       "version_major": 2,
       "version_minor": 0
      },
      "text/plain": [
       "  0%|          | 0/11525 [00:00<?, ?it/s]"
      ]
     },
     "metadata": {},
     "output_type": "display_data"
    },
    {
     "name": "stdout",
     "output_type": "stream",
     "text": [
      "Percentage of Invalid Sets: 0.040\n",
      "Average Set Size: 231\n",
      "Finished. Actual Time:   0 h :  0 m : 11 s\n",
      "*********       Round 1: Early Stop Triggered at epoch 1318.       *********\n",
      "Change in noise variance: 1.4184894561767578\n",
      "*********             Velocity Refinement Round 2              *********\n",
      "Cell-wise KNN Estimation.\n"
     ]
    },
    {
     "data": {
      "application/vnd.jupyter.widget-view+json": {
       "model_id": "2940aa670ea647139b61f489e1eb624c",
       "version_major": 2,
       "version_minor": 0
      },
      "text/plain": [
       "  0%|          | 0/11525 [00:00<?, ?it/s]"
      ]
     },
     "metadata": {},
     "output_type": "display_data"
    },
    {
     "name": "stdout",
     "output_type": "stream",
     "text": [
      "Percentage of Invalid Sets: 0.040\n",
      "Average Set Size: 231\n",
      "Finished. Actual Time:   0 h :  0 m : 11 s\n",
      "*********       Round 2: Early Stop Triggered at epoch 1391.       *********\n",
      "Change in noise variance: 0.0038858933839946985\n",
      "Change in x0: 0.4574889723872036\n",
      "*********             Velocity Refinement Round 3              *********\n",
      "Cell-wise KNN Estimation.\n"
     ]
    },
    {
     "data": {
      "application/vnd.jupyter.widget-view+json": {
       "model_id": "86131d8fdc1848f89699c4cd1fb50ddd",
       "version_major": 2,
       "version_minor": 0
      },
      "text/plain": [
       "  0%|          | 0/11525 [00:00<?, ?it/s]"
      ]
     },
     "metadata": {},
     "output_type": "display_data"
    },
    {
     "name": "stdout",
     "output_type": "stream",
     "text": [
      "Percentage of Invalid Sets: 0.040\n",
      "Average Set Size: 231\n",
      "Finished. Actual Time:   0 h :  0 m : 11 s\n",
      "*********       Round 3: Early Stop Triggered at epoch 1429.       *********\n",
      "Change in noise variance: 0.0024629533290863037\n",
      "Change in x0: 0.28647986202374415\n",
      "*********             Velocity Refinement Round 4              *********\n",
      "Cell-wise KNN Estimation.\n"
     ]
    },
    {
     "data": {
      "application/vnd.jupyter.widget-view+json": {
       "model_id": "7ab0162aa94c47d0b1f0c6248d1c426b",
       "version_major": 2,
       "version_minor": 0
      },
      "text/plain": [
       "  0%|          | 0/11525 [00:00<?, ?it/s]"
      ]
     },
     "metadata": {},
     "output_type": "display_data"
    },
    {
     "name": "stdout",
     "output_type": "stream",
     "text": [
      "Percentage of Invalid Sets: 0.040\n",
      "Average Set Size: 231\n",
      "Finished. Actual Time:   0 h :  0 m : 11 s\n",
      "*********       Round 4: Early Stop Triggered at epoch 1461.       *********\n",
      "Change in noise variance: 0.002674531890079379\n",
      "Change in x0: 0.24130770954924746\n",
      "*********             Velocity Refinement Round 5              *********\n",
      "Cell-wise KNN Estimation.\n"
     ]
    },
    {
     "data": {
      "application/vnd.jupyter.widget-view+json": {
       "model_id": "bca24ffaada34d449d2c3c702cbadbd5",
       "version_major": 2,
       "version_minor": 0
      },
      "text/plain": [
       "  0%|          | 0/11525 [00:00<?, ?it/s]"
      ]
     },
     "metadata": {},
     "output_type": "display_data"
    },
    {
     "name": "stdout",
     "output_type": "stream",
     "text": [
      "Percentage of Invalid Sets: 0.040\n",
      "Average Set Size: 231\n",
      "Finished. Actual Time:   0 h :  0 m : 11 s\n",
      "*********       Round 5: Early Stop Triggered at epoch 1487.       *********\n",
      "Change in noise variance: 0.002675120485946536\n",
      "Change in x0: 0.22197486529935684\n",
      "*********             Velocity Refinement Round 6              *********\n",
      "Cell-wise KNN Estimation.\n"
     ]
    },
    {
     "data": {
      "application/vnd.jupyter.widget-view+json": {
       "model_id": "f3f9bb42ba354d17afc205a38be488ed",
       "version_major": 2,
       "version_minor": 0
      },
      "text/plain": [
       "  0%|          | 0/11525 [00:00<?, ?it/s]"
      ]
     },
     "metadata": {},
     "output_type": "display_data"
    },
    {
     "name": "stdout",
     "output_type": "stream",
     "text": [
      "Percentage of Invalid Sets: 0.040\n",
      "Average Set Size: 231\n",
      "Finished. Actual Time:   0 h :  0 m : 11 s\n",
      "*********       Round 6: Early Stop Triggered at epoch 1513.       *********\n",
      "Change in noise variance: 0.0026486290153115988\n",
      "Change in x0: 0.20649378744350508\n",
      "*********             Velocity Refinement Round 7              *********\n",
      "Cell-wise KNN Estimation.\n"
     ]
    },
    {
     "data": {
      "application/vnd.jupyter.widget-view+json": {
       "model_id": "2d2e1fc49f894baaaaad9b4c1e4c3040",
       "version_major": 2,
       "version_minor": 0
      },
      "text/plain": [
       "  0%|          | 0/11525 [00:00<?, ?it/s]"
      ]
     },
     "metadata": {},
     "output_type": "display_data"
    },
    {
     "name": "stdout",
     "output_type": "stream",
     "text": [
      "Percentage of Invalid Sets: 0.040\n",
      "Average Set Size: 231\n",
      "Finished. Actual Time:   0 h :  0 m : 11 s\n",
      "*********       Round 7: Early Stop Triggered at epoch 1537.       *********\n",
      "Change in noise variance: 0.0025577221531420946\n",
      "Change in x0: 0.1961237279089496\n",
      "*********             Velocity Refinement Round 8              *********\n",
      "Cell-wise KNN Estimation.\n"
     ]
    },
    {
     "data": {
      "application/vnd.jupyter.widget-view+json": {
       "model_id": "9d10a26ed86a4d46933e703d5cc1bc18",
       "version_major": 2,
       "version_minor": 0
      },
      "text/plain": [
       "  0%|          | 0/11525 [00:00<?, ?it/s]"
      ]
     },
     "metadata": {},
     "output_type": "display_data"
    },
    {
     "name": "stdout",
     "output_type": "stream",
     "text": [
      "Percentage of Invalid Sets: 0.040\n",
      "Average Set Size: 231\n",
      "Finished. Actual Time:   0 h :  0 m : 11 s\n",
      "*********       Round 8: Early Stop Triggered at epoch 1559.       *********\n",
      "Change in noise variance: 0.002339752623811364\n",
      "Change in x0: 0.19369386418421508\n",
      "*********             Velocity Refinement Round 9              *********\n",
      "Cell-wise KNN Estimation.\n"
     ]
    },
    {
     "data": {
      "application/vnd.jupyter.widget-view+json": {
       "model_id": "213bacd851bc45a6b7fa9ff7a428f406",
       "version_major": 2,
       "version_minor": 0
      },
      "text/plain": [
       "  0%|          | 0/11525 [00:00<?, ?it/s]"
      ]
     },
     "metadata": {},
     "output_type": "display_data"
    },
    {
     "name": "stdout",
     "output_type": "stream",
     "text": [
      "Percentage of Invalid Sets: 0.040\n",
      "Average Set Size: 231\n",
      "Finished. Actual Time:   0 h :  0 m : 11 s\n",
      "*********       Round 9: Early Stop Triggered at epoch 1581.       *********\n",
      "Change in noise variance: 0.002058543963357806\n",
      "Change in x0: 0.180174454796148\n",
      "*********             Velocity Refinement Round 10              *********\n",
      "Cell-wise KNN Estimation.\n"
     ]
    },
    {
     "data": {
      "application/vnd.jupyter.widget-view+json": {
       "model_id": "9c1cf678a9114fc49985b7f6d125d3d4",
       "version_major": 2,
       "version_minor": 0
      },
      "text/plain": [
       "  0%|          | 0/11525 [00:00<?, ?it/s]"
      ]
     },
     "metadata": {},
     "output_type": "display_data"
    },
    {
     "name": "stdout",
     "output_type": "stream",
     "text": [
      "Percentage of Invalid Sets: 0.040\n",
      "Average Set Size: 231\n",
      "Finished. Actual Time:   0 h :  0 m : 11 s\n",
      "*********       Round 10: Early Stop Triggered at epoch 1601.       *********\n",
      "Change in noise variance: 0.0017616034019738436\n",
      "Change in x0: 0.1723457348109541\n",
      "*********             Velocity Refinement Round 11              *********\n",
      "Cell-wise KNN Estimation.\n"
     ]
    },
    {
     "data": {
      "application/vnd.jupyter.widget-view+json": {
       "model_id": "d19d347c577449a6a8824c5d9437c676",
       "version_major": 2,
       "version_minor": 0
      },
      "text/plain": [
       "  0%|          | 0/11525 [00:00<?, ?it/s]"
      ]
     },
     "metadata": {},
     "output_type": "display_data"
    },
    {
     "name": "stdout",
     "output_type": "stream",
     "text": [
      "Percentage of Invalid Sets: 0.040\n",
      "Average Set Size: 231\n",
      "Finished. Actual Time:   0 h :  0 m : 11 s\n",
      "*********       Round 11: Early Stop Triggered at epoch 1621.       *********\n",
      "Change in noise variance: 0.001458331709727645\n",
      "Change in x0: 0.16250648021935984\n",
      "*********             Velocity Refinement Round 12              *********\n",
      "Cell-wise KNN Estimation.\n"
     ]
    },
    {
     "data": {
      "application/vnd.jupyter.widget-view+json": {
       "model_id": "b317c647783640c5913e34071da5f5c7",
       "version_major": 2,
       "version_minor": 0
      },
      "text/plain": [
       "  0%|          | 0/11525 [00:00<?, ?it/s]"
      ]
     },
     "metadata": {},
     "output_type": "display_data"
    },
    {
     "name": "stdout",
     "output_type": "stream",
     "text": [
      "Percentage of Invalid Sets: 0.040\n",
      "Average Set Size: 231\n",
      "Finished. Actual Time:   0 h :  0 m : 11 s\n",
      "*********       Round 12: Early Stop Triggered at epoch 1641.       *********\n",
      "Change in noise variance: 0.001150936121121049\n",
      "Change in x0: 0.1570102929998904\n",
      "*********             Velocity Refinement Round 13              *********\n",
      "Cell-wise KNN Estimation.\n"
     ]
    },
    {
     "data": {
      "application/vnd.jupyter.widget-view+json": {
       "model_id": "049aa9d9c40d4b7fa4c91499f9e5858c",
       "version_major": 2,
       "version_minor": 0
      },
      "text/plain": [
       "  0%|          | 0/11525 [00:00<?, ?it/s]"
      ]
     },
     "metadata": {},
     "output_type": "display_data"
    },
    {
     "name": "stdout",
     "output_type": "stream",
     "text": [
      "Percentage of Invalid Sets: 0.040\n",
      "Average Set Size: 231\n",
      "Finished. Actual Time:   0 h :  0 m : 11 s\n",
      "*********       Round 13: Early Stop Triggered at epoch 1661.       *********\n",
      "Change in noise variance: 0.0008868987788446248\n",
      "Change in x0: 0.15164735204846808\n",
      "*********             Velocity Refinement Round 14              *********\n",
      "Cell-wise KNN Estimation.\n"
     ]
    },
    {
     "data": {
      "application/vnd.jupyter.widget-view+json": {
       "model_id": "f5fb2d3082104fbd8483d05c8f9b6d97",
       "version_major": 2,
       "version_minor": 0
      },
      "text/plain": [
       "  0%|          | 0/11525 [00:00<?, ?it/s]"
      ]
     },
     "metadata": {},
     "output_type": "display_data"
    },
    {
     "name": "stdout",
     "output_type": "stream",
     "text": [
      "Percentage of Invalid Sets: 0.040\n",
      "Average Set Size: 231\n",
      "Finished. Actual Time:   0 h :  0 m : 11 s\n",
      "*********       Round 14: Early Stop Triggered at epoch 1677.       *********\n",
      "Change in noise variance: 0.0\n",
      "Change in x0: 0.14659165641800015\n",
      "*********             Velocity Refinement Round 15              *********\n",
      "Cell-wise KNN Estimation.\n"
     ]
    },
    {
     "data": {
      "application/vnd.jupyter.widget-view+json": {
       "model_id": "76c50305d20841598343cfa7be12116a",
       "version_major": 2,
       "version_minor": 0
      },
      "text/plain": [
       "  0%|          | 0/11525 [00:00<?, ?it/s]"
      ]
     },
     "metadata": {},
     "output_type": "display_data"
    },
    {
     "name": "stdout",
     "output_type": "stream",
     "text": [
      "Percentage of Invalid Sets: 0.040\n",
      "Average Set Size: 231\n",
      "Finished. Actual Time:   0 h :  0 m : 11 s\n",
      "*********       Round 15: Early Stop Triggered at epoch 1693.       *********\n",
      "Change in noise variance: 0.0\n",
      "Change in x0: 0.14116078977382884\n",
      "*********             Velocity Refinement Round 16              *********\n",
      "Cell-wise KNN Estimation.\n"
     ]
    },
    {
     "data": {
      "application/vnd.jupyter.widget-view+json": {
       "model_id": "9926bee3658b4694a99c5a72f7f0cfac",
       "version_major": 2,
       "version_minor": 0
      },
      "text/plain": [
       "  0%|          | 0/11525 [00:00<?, ?it/s]"
      ]
     },
     "metadata": {},
     "output_type": "display_data"
    },
    {
     "name": "stdout",
     "output_type": "stream",
     "text": [
      "Percentage of Invalid Sets: 0.040\n",
      "Average Set Size: 231\n",
      "Finished. Actual Time:   0 h :  0 m : 11 s\n",
      "*********       Round 16: Early Stop Triggered at epoch 1703.       *********\n",
      "Change in noise variance: 0.0\n",
      "Change in x0: 0.138737918264002\n",
      "*********             Velocity Refinement Round 17              *********\n",
      "Cell-wise KNN Estimation.\n"
     ]
    },
    {
     "data": {
      "application/vnd.jupyter.widget-view+json": {
       "model_id": "37f76f66620d4b12b9f360bff22e3e87",
       "version_major": 2,
       "version_minor": 0
      },
      "text/plain": [
       "  0%|          | 0/11525 [00:00<?, ?it/s]"
      ]
     },
     "metadata": {},
     "output_type": "display_data"
    },
    {
     "name": "stdout",
     "output_type": "stream",
     "text": [
      "Percentage of Invalid Sets: 0.040\n",
      "Average Set Size: 231\n",
      "Finished. Actual Time:   0 h :  0 m : 11 s\n",
      "*********       Round 17: Early Stop Triggered at epoch 1713.       *********\n",
      "Change in noise variance: 0.0\n",
      "Change in x0: 0.1334335349564621\n",
      "*********             Velocity Refinement Round 18              *********\n",
      "Cell-wise KNN Estimation.\n"
     ]
    },
    {
     "data": {
      "application/vnd.jupyter.widget-view+json": {
       "model_id": "7254c7d773104a698165ec00ecc3d532",
       "version_major": 2,
       "version_minor": 0
      },
      "text/plain": [
       "  0%|          | 0/11525 [00:00<?, ?it/s]"
      ]
     },
     "metadata": {},
     "output_type": "display_data"
    },
    {
     "name": "stdout",
     "output_type": "stream",
     "text": [
      "Percentage of Invalid Sets: 0.040\n",
      "Average Set Size: 231\n",
      "Finished. Actual Time:   0 h :  0 m : 11 s\n",
      "*********       Round 18: Early Stop Triggered at epoch 1729.       *********\n",
      "Change in noise variance: 0.0\n",
      "Change in x0: 0.13055984911466537\n",
      "*********             Velocity Refinement Round 19              *********\n",
      "Cell-wise KNN Estimation.\n"
     ]
    },
    {
     "data": {
      "application/vnd.jupyter.widget-view+json": {
       "model_id": "3faefb14a8b444d288f3bf9fc7db77c4",
       "version_major": 2,
       "version_minor": 0
      },
      "text/plain": [
       "  0%|          | 0/11525 [00:00<?, ?it/s]"
      ]
     },
     "metadata": {},
     "output_type": "display_data"
    },
    {
     "name": "stdout",
     "output_type": "stream",
     "text": [
      "Percentage of Invalid Sets: 0.040\n",
      "Average Set Size: 231\n",
      "Finished. Actual Time:   0 h :  0 m : 11 s\n",
      "*********       Round 19: Early Stop Triggered at epoch 1739.       *********\n",
      "Change in noise variance: 0.0\n",
      "Change in x0: 0.12849785878388978\n",
      "*********             Velocity Refinement Round 20              *********\n",
      "Cell-wise KNN Estimation.\n"
     ]
    },
    {
     "data": {
      "application/vnd.jupyter.widget-view+json": {
       "model_id": "a1f91dd812cd43aabaa36abe82f8e172",
       "version_major": 2,
       "version_minor": 0
      },
      "text/plain": [
       "  0%|          | 0/11525 [00:00<?, ?it/s]"
      ]
     },
     "metadata": {},
     "output_type": "display_data"
    },
    {
     "name": "stdout",
     "output_type": "stream",
     "text": [
      "Percentage of Invalid Sets: 0.040\n",
      "Average Set Size: 231\n",
      "Finished. Actual Time:   0 h :  0 m : 11 s\n",
      "*********       Round 20: Early Stop Triggered at epoch 1755.       *********\n",
      "Change in noise variance: 0.0\n",
      "Change in x0: 0.12734613697807753\n",
      "*********              Finished. Total Time =   0 h : 33 m : 13 s             *********\n",
      "Final: Train ELBO = 8797.238,\tTest ELBO = 8806.635\n"
     ]
    }
   ],
   "source": [
    "figure_path = f\"{figure_path_base}/{data_name}/FullVB\"\n",
    "model_path = f\"{save_path}/{data_name}/FullVB\"\n",
    "data_path = f\"{save_path}/{data_name}\"\n",
    "\n",
    "torch.manual_seed(2022)\n",
    "np.random.seed(2022)\n",
    "vae = vv.VAE(adata_brain, \n",
    "             tmax=20, \n",
    "             dim_z=5, \n",
    "             device='cuda:0',\n",
    "             full_vb=True)\n",
    "gene_plot = np.random.choice(adata_brain.var_names, 4)\n",
    "\n",
    "vae.train(adata_brain, gene_plot=gene_plot, plot=False, figure_path=figure_path, embed=\"pos\")\n",
    "vae.save_model(model_path, 'fullvb', 'fullvb')\n",
    "vae.save_anndata(adata_brain, 'fullvb', data_path, file_name=\"adata_brain_out.h5ad\")"
   ]
  },
  {
   "cell_type": "code",
   "execution_count": null,
   "id": "de5bc90a",
   "metadata": {},
   "outputs": [],
   "source": [
    "adata_brain = anndata.read_h5ad(f\"{save_path}/{data_name}/adata_brain_out.h5ad\")"
   ]
  },
  {
   "cell_type": "code",
   "execution_count": 8,
   "id": "220707f8",
   "metadata": {},
   "outputs": [
    {
     "name": "stdout",
     "output_type": "stream",
     "text": [
      "Computing velocity embedding using scVelo\n",
      "computing velocity graph (using 3/32 cores)\n"
     ]
    },
    {
     "data": {
      "application/vnd.jupyter.widget-view+json": {
       "model_id": "ccf6147c0c034f11b25f2743ba02687c",
       "version_major": 2,
       "version_minor": 0
      },
      "text/plain": [
       "  0%|          | 0/11525 [00:00<?, ?cells/s]"
      ]
     },
     "metadata": {},
     "output_type": "display_data"
    },
    {
     "name": "stdout",
     "output_type": "stream",
     "text": [
      "    finished (0:01:43) --> added \n",
      "    'velovae_velocity_graph', sparse matrix with cosine correlations (adata.uns)\n",
      "computing velocity embedding\n",
      "    finished (0:00:03) --> added\n",
      "    'velovae_velocity_pos', embedded velocity vectors (adata.obsm)\n",
      "Computing velocity embedding using scVelo\n",
      "computing velocity graph (using 3/32 cores)\n"
     ]
    },
    {
     "data": {
      "application/vnd.jupyter.widget-view+json": {
       "model_id": "2d36b42b34774d8f9d865466b70e5c39",
       "version_major": 2,
       "version_minor": 0
      },
      "text/plain": [
       "  0%|          | 0/11525 [00:00<?, ?cells/s]"
      ]
     },
     "metadata": {},
     "output_type": "display_data"
    },
    {
     "name": "stdout",
     "output_type": "stream",
     "text": [
      "    finished (0:01:36) --> added \n",
      "    'fullvb_velocity_graph', sparse matrix with cosine correlations (adata.uns)\n",
      "computing velocity embedding\n",
      "    finished (0:00:03) --> added\n",
      "    'fullvb_velocity_pos', embedded velocity vectors (adata.obsm)\n",
      "---     Computing Peformance Metrics     ---\n",
      "Dataset Size: 11525 cells, 1469 genes\n",
      "---   Plotting  Results   ---\n",
      "saving figure to file /scratch/welchjd_root/welchjd/shared_data/stereo_seq_embryo_d12_brain/eval_velovae_stream.png\n",
      "saving figure to file /scratch/welchjd_root/welchjd/shared_data/stereo_seq_embryo_d12_brain/eval_fullvb_stream.png\n"
     ]
    },
    {
     "data": {
      "text/html": [
       "<div>\n",
       "<style scoped>\n",
       "    .dataframe tbody tr th:only-of-type {\n",
       "        vertical-align: middle;\n",
       "    }\n",
       "\n",
       "    .dataframe tbody tr th {\n",
       "        vertical-align: top;\n",
       "    }\n",
       "\n",
       "    .dataframe thead th {\n",
       "        text-align: right;\n",
       "    }\n",
       "</style>\n",
       "<table border=\"1\" class=\"dataframe\">\n",
       "  <thead>\n",
       "    <tr style=\"text-align: right;\">\n",
       "      <th></th>\n",
       "      <th>VeloVAE</th>\n",
       "      <th>FullVB</th>\n",
       "    </tr>\n",
       "  </thead>\n",
       "  <tbody>\n",
       "    <tr>\n",
       "      <th>MSE Train</th>\n",
       "      <td>0.869</td>\n",
       "      <td>1.609</td>\n",
       "    </tr>\n",
       "    <tr>\n",
       "      <th>MSE Test</th>\n",
       "      <td>0.830</td>\n",
       "      <td>1.580</td>\n",
       "    </tr>\n",
       "    <tr>\n",
       "      <th>MAE Train</th>\n",
       "      <td>0.105</td>\n",
       "      <td>0.154</td>\n",
       "    </tr>\n",
       "    <tr>\n",
       "      <th>MAE Test</th>\n",
       "      <td>0.105</td>\n",
       "      <td>0.152</td>\n",
       "    </tr>\n",
       "    <tr>\n",
       "      <th>LL Train</th>\n",
       "      <td>12256.787</td>\n",
       "      <td>8821.289</td>\n",
       "    </tr>\n",
       "    <tr>\n",
       "      <th>LL Test</th>\n",
       "      <td>12258.849</td>\n",
       "      <td>8838.817</td>\n",
       "    </tr>\n",
       "    <tr>\n",
       "      <th>Training Time</th>\n",
       "      <td>1496.458</td>\n",
       "      <td>1993.851</td>\n",
       "    </tr>\n",
       "    <tr>\n",
       "      <th>In-Cluster Coherence</th>\n",
       "      <td>0.731</td>\n",
       "      <td>0.966</td>\n",
       "    </tr>\n",
       "  </tbody>\n",
       "</table>\n",
       "</div>"
      ],
      "text/plain": [
       "                        VeloVAE    FullVB\n",
       "MSE Train                 0.869     1.609\n",
       "MSE Test                  0.830     1.580\n",
       "MAE Train                 0.105     0.154\n",
       "MAE Test                  0.105     0.152\n",
       "LL Train              12256.787  8821.289\n",
       "LL Test               12258.849  8838.817\n",
       "Training Time          1496.458  1993.851\n",
       "In-Cluster Coherence      0.731     0.966"
      ]
     },
     "execution_count": 8,
     "metadata": {},
     "output_type": "execute_result"
    }
   ],
   "source": [
    "gene_plot = adata_brain.var_names\n",
    "vv.post_analysis(adata_brain,\n",
    "                 'eval',\n",
    "                 ['VeloVAE','FullVB'],\n",
    "                 ['velovae','fullvb'],\n",
    "                 compute_metrics=True,\n",
    "                 genes=gene_plot,\n",
    "                 grid_size=(2,5),\n",
    "                 embed='pos',\n",
    "                 plot_type=['signal','time','stream'],\n",
    "                 save_path=f\"{figure_path_base}/{data_name}\",\n",
    "                 sparsity_correction=True)"
   ]
  },
  {
   "cell_type": "code",
   "execution_count": null,
   "id": "51ac44da",
   "metadata": {},
   "outputs": [],
   "source": [
    "genes = adata_brain.var.index.to_numpy()\n",
    "barcodes = adata_brain.obs.index.to_numpy()\n",
    "pd.DataFrame(genes).to_csv(f\"{data_path}/genes_{data_name}.csv\")\n",
    "pd.DataFrame(barcodes).to_csv(f\"{data_path}/barcodes_{data_name}.csv\")\n",
    "print(data_path)\n",
    "for key in ['velovae', 'fullvb']:\n",
    "    time = adata_brain.obs[f\"{key}_time\"].to_numpy()\n",
    "    pd.DataFrame(time).to_csv(f\"{data_path}/time_{data_name}_{key}.csv\")\n",
    "    mmwrite(f\"{data_path}/vu_{data_name}_{key}.mtx\", adata_brain.layers[f\"{key}_velocity_u\"])\n",
    "    mmwrite(f\"{data_path}/vs_{data_name}_{key}.mtx\", adata_brain.layers[f\"{key}_velocity\"])"
   ]
  },
  {
   "cell_type": "markdown",
   "id": "05640911",
   "metadata": {},
   "source": [
    "# Jaw and Tooth"
   ]
  },
  {
   "cell_type": "code",
   "execution_count": null,
   "id": "bc2b9fa2",
   "metadata": {},
   "outputs": [],
   "source": [
    "data_name = \"stereo_seq_embryo_d12_jaw_tooth\""
   ]
  },
  {
   "cell_type": "code",
   "execution_count": null,
   "id": "24de97c8",
   "metadata": {},
   "outputs": [],
   "source": [
    "adata_jt = adata[adata.obs['clusters']=='Jaw and tooth']"
   ]
  },
  {
   "cell_type": "code",
   "execution_count": null,
   "id": "92355f77",
   "metadata": {},
   "outputs": [],
   "source": [
    "vv.preprocess(adata_jt, \n",
    "              n_gene=1000, \n",
    "              min_count_per_cell=0,\n",
    "              compute_umap=True, \n",
    "              resolution=0.5,\n",
    "              genes_retain=genes_retain)"
   ]
  },
  {
   "cell_type": "code",
   "execution_count": null,
   "id": "9260a55c",
   "metadata": {},
   "outputs": [],
   "source": [
    "print(len(set(genes_retain).intersection(set(adata_jt.var_names))))"
   ]
  },
  {
   "cell_type": "code",
   "execution_count": null,
   "id": "2feffb72",
   "metadata": {},
   "outputs": [],
   "source": [
    "adata_jt.write_h5ad(f\"{save_path}/{data_name}/embryo_d12_jaw_tooth_pp.h5ad\")"
   ]
  },
  {
   "cell_type": "code",
   "execution_count": null,
   "id": "470018b2",
   "metadata": {},
   "outputs": [],
   "source": [
    "adata_jt = anndata.read_h5ad(f\"{save_path}/{data_name}/embryo_d12_jaw_tooth_pp.h5ad\")"
   ]
  },
  {
   "cell_type": "code",
   "execution_count": null,
   "id": "67ab1c0d",
   "metadata": {},
   "outputs": [],
   "source": [
    "figure_path = f\"{figure_path_base}/{data_name}/VAE\"\n",
    "model_path = f\"{save_path}/{data_name}/VAE\"\n",
    "data_path = f\"{save_path}/{data_name}\"\n",
    "torch.manual_seed(2023)\n",
    "np.random.seed(2023)\n",
    "vae = vv.VAE(adata_jt, \n",
    "             tmax=20, \n",
    "             dim_z=5, \n",
    "             device='cuda:0',\n",
    "             reverse_gene_mode=False)\n",
    "std_u = np.std(adata_jt.layers['Mu'],0)\n",
    "std_s = np.std(adata_jt.layers['Ms'],0)\n",
    "mask = (std_u > 0.1) & (std_s > 0.1)\n",
    "gene_plot = np.random.choice(adata_jt.var_names[mask], 4)\n",
    "config = {\n",
    "    'batch_size':64\n",
    "}\n",
    "vae.train(adata_jt, config=config, gene_plot=gene_plot, plot=False, figure_path=figure_path, embed=\"pos\")\n",
    "vae.save_model(model_path, 'velovae', 'velovae')\n",
    "vae.save_anndata(adata_jt, 'velovae', data_path, file_name=\"adata_jt_out.h5ad\")"
   ]
  },
  {
   "cell_type": "code",
   "execution_count": null,
   "id": "48182be4",
   "metadata": {},
   "outputs": [],
   "source": [
    "figure_path = f\"{figure_path_base}/{data_name}/FullVB\"\n",
    "model_path = f\"{save_path}/{data_name}/FullVB\"\n",
    "data_path = f\"{save_path}/{data_name}\"\n",
    "\n",
    "torch.manual_seed(2022)\n",
    "np.random.seed(2022)\n",
    "vae = vv.VAE(adata_jt, \n",
    "             tmax=20, \n",
    "             dim_z=5, \n",
    "             device='cuda:0',\n",
    "             full_vb=True,\n",
    "             reverse_gene_mode=False)\n",
    "gene_plot = np.random.choice(adata_jt.var_names, 4)\n",
    "config = {\n",
    "    'batch_size':64\n",
    "}\n",
    "vae.train(adata_jt, config=config, gene_plot=gene_plot, plot=False, figure_path=figure_path, embed=\"pos\")\n",
    "vae.save_model(model_path, 'fullvb', 'fullvb')\n",
    "vae.save_anndata(adata_jt, 'fullvb', data_path, file_name=\"adata_jt_out.h5ad\")"
   ]
  },
  {
   "cell_type": "code",
   "execution_count": null,
   "id": "6735e8db",
   "metadata": {},
   "outputs": [],
   "source": [
    "gene_plot = adata_jt.var_names\n",
    "vv.post_analysis(adata_jt,\n",
    "                 'eval',\n",
    "                 ['VeloVAE', 'FullVB'],\n",
    "                 ['velovae', 'fullvb'],\n",
    "                 compute_metrics=True,\n",
    "                 genes=gene_plot,\n",
    "                 grid_size=(2,5),\n",
    "                 embed='umap',\n",
    "                 plot_type=['signal', 'time', 'stream'],\n",
    "                 save_path=f\"{figure_path_base}/{data_name}\",\n",
    "                 sparsity_correction=True)"
   ]
  },
  {
   "cell_type": "code",
   "execution_count": null,
   "id": "8b091b2f",
   "metadata": {},
   "outputs": [],
   "source": [
    "genes = adata_jt.var.index.to_numpy()\n",
    "barcodes = adata_jt.obs.index.to_numpy()\n",
    "pd.DataFrame(genes).to_csv(f\"{data_path}/genes_{data_name}.csv\")\n",
    "pd.DataFrame(barcodes).to_csv(f\"{data_path}/barcodes_{data_name}.csv\")\n",
    "print(data_path)\n",
    "for key in ['velovae', 'fullvb']:\n",
    "    time = adata_jt.obs[f\"{key}_time\"].to_numpy()\n",
    "    pd.DataFrame(time).to_csv(f\"{data_path}/time_{data_name}_{key}.csv\")\n",
    "    mmwrite(f\"{data_path}/vu_{data_name}_{key}.mtx\", adata_jt.layers[f\"{key}_velocity_u\"])\n",
    "    mmwrite(f\"{data_path}/vs_{data_name}_{key}.mtx\", adata_jt.layers[f\"{key}_velocity\"])"
   ]
  },
  {
   "cell_type": "markdown",
   "id": "9823260e",
   "metadata": {},
   "source": [
    "# GI tract + Mesentery"
   ]
  },
  {
   "cell_type": "code",
   "execution_count": null,
   "id": "99ef42ae",
   "metadata": {},
   "outputs": [],
   "source": [
    "data_name = \"stereo_seq_embryo_d12_gi_mensentery\""
   ]
  },
  {
   "cell_type": "code",
   "execution_count": null,
   "id": "49a1553b",
   "metadata": {},
   "outputs": [],
   "source": [
    "np.unique(adata.obs['clusters'])"
   ]
  },
  {
   "cell_type": "code",
   "execution_count": null,
   "id": "386dd047",
   "metadata": {},
   "outputs": [],
   "source": [
    "adata_gm = adata[(adata.obs['clusters']=='GI tract') | (adata.obs['clusters']=='Mesentery')]"
   ]
  },
  {
   "cell_type": "code",
   "execution_count": null,
   "id": "3779daba",
   "metadata": {},
   "outputs": [],
   "source": [
    "vv.preprocess(adata_gm, \n",
    "              n_gene=1000, \n",
    "              min_count_per_cell=0,\n",
    "              compute_umap=True, \n",
    "              resolution=0.5,\n",
    "              genes_retain=genes_retain,\n",
    "              perform_clustering=True)"
   ]
  },
  {
   "cell_type": "code",
   "execution_count": null,
   "id": "e082fa9b",
   "metadata": {},
   "outputs": [],
   "source": [
    "scv.pl.scatter(adata_gm)"
   ]
  },
  {
   "cell_type": "code",
   "execution_count": null,
   "id": "53cce357",
   "metadata": {},
   "outputs": [],
   "source": [
    "figure_path = f\"{figure_path_base}/{data_name}/VAE\"\n",
    "model_path = f\"{save_path}/{data_name}/VAE\"\n",
    "data_path = f\"{save_path}/{data_name}\"\n",
    "torch.manual_seed(2022)\n",
    "np.random.seed(2022)\n",
    "vae = vv.VAE(adata_gm, \n",
    "             tmax=20, \n",
    "             dim_z=5, \n",
    "             device='cuda:0',\n",
    "             reverse_gene_mode=False)\n",
    "std_u = np.std(adata_gm.layers['Mu'],0)\n",
    "std_s = np.std(adata_gm.layers['Ms'],0)\n",
    "mask = (std_u > 0.1) & (std_s > 0.1)\n",
    "gene_plot = np.random.choice(adata_gm.var_names[mask], 4)\n",
    "config = {\n",
    "    'batch_size':64\n",
    "}\n",
    "vae.train(adata_gm, config=config, gene_plot=gene_plot, plot=False, figure_path=figure_path, embed=\"pos\")\n",
    "vae.save_model(model_path, 'velovae', 'velovae')\n",
    "vae.save_anndata(adata_gm, 'velovae', data_path, file_name=\"adata_gm_out.h5ad\")"
   ]
  },
  {
   "cell_type": "code",
   "execution_count": null,
   "id": "02a48f04",
   "metadata": {},
   "outputs": [],
   "source": [
    "figure_path = f\"{figure_path_base}/{data_name}/FullVB\"\n",
    "model_path = f\"{save_path}/{data_name}/FullVB\"\n",
    "data_path = f\"{save_path}/{data_name}\"\n",
    "torch.manual_seed(2022)\n",
    "np.random.seed(2022)\n",
    "vae = vv.VAE(adata_gm, \n",
    "             tmax=20, \n",
    "             dim_z=5, \n",
    "             device='cuda:0',\n",
    "             full_vb=True,\n",
    "             reverse_gene_mode=False)\n",
    "std_u = np.std(adata_gm.layers['Mu'],0)\n",
    "std_s = np.std(adata_gm.layers['Ms'],0)\n",
    "mask = (std_u > 0.1) & (std_s > 0.1)\n",
    "gene_plot = np.random.choice(adata_gm.var_names[mask], 4)\n",
    "config = {\n",
    "    'batch_size':64\n",
    "}\n",
    "vae.train(adata_gm, config=config, gene_plot=gene_plot, plot=False, figure_path=figure_path, embed=\"pos\")\n",
    "vae.save_model(model_path, 'fullvb', 'fullvb')\n",
    "vae.save_anndata(adata_gm, 'fullvb', data_path, file_name=\"adata_gm_out.h5ad\")"
   ]
  },
  {
   "cell_type": "code",
   "execution_count": null,
   "id": "2e798e6d",
   "metadata": {},
   "outputs": [],
   "source": [
    "gene_plot = adata_gm.var_names\n",
    "vv.post_analysis(adata_gm,\n",
    "                 'eval',\n",
    "                 ['VeloVAE', 'FullVB'],\n",
    "                 ['velovae', 'fullvb'],\n",
    "                 compute_metrics=True,\n",
    "                 genes=gene_plot,\n",
    "                 grid_size=(2,5),\n",
    "                 embed='umap',\n",
    "                 plot_type=['signal', 'time', 'stream'],\n",
    "                 save_path=f\"{figure_path_base}/{data_name}\",\n",
    "                 sparsity_correction=True)"
   ]
  },
  {
   "cell_type": "code",
   "execution_count": null,
   "id": "2773ada9",
   "metadata": {},
   "outputs": [],
   "source": [
    "genes = adata_gm.var.index.to_numpy()\n",
    "barcodes = adata_gm.obs.index.to_numpy()\n",
    "pd.DataFrame(genes).to_csv(f\"{data_path}/genes_{data_name}.csv\")\n",
    "pd.DataFrame(barcodes).to_csv(f\"{data_path}/barcodes_{data_name}.csv\")\n",
    "print(data_path)\n",
    "for key in ['velovae', 'fullvb']:\n",
    "    time = adata_jt.obs[f\"{key}_time\"].to_numpy()\n",
    "    pd.DataFrame(time).to_csv(f\"{data_path}/time_{data_name}_{key}.csv\")\n",
    "    mmwrite(f\"{data_path}/vu_{data_name}_{key}.mtx\", adata_jt.layers[f\"{key}_velocity_u\"])\n",
    "    mmwrite(f\"{data_path}/vs_{data_name}_{key}.mtx\", adata_jt.layers[f\"{key}_velocity\"])"
   ]
  }
 ],
 "metadata": {
  "kernelspec": {
   "display_name": "Python 3",
   "language": "python",
   "name": "python3"
  },
  "language_info": {
   "codemirror_mode": {
    "name": "ipython",
    "version": 3
   },
   "file_extension": ".py",
   "mimetype": "text/x-python",
   "name": "python",
   "nbconvert_exporter": "python",
   "pygments_lexer": "ipython3",
   "version": "3.9.7"
  }
 },
 "nbformat": 4,
 "nbformat_minor": 5
}
